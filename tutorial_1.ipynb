{
 "cells": [
  {
   "cell_type": "markdown",
   "metadata": {},
   "source": [
    "# Introducción a Python\n",
    "Por [@dzerkuv](https://t.me/dzerkuv)"
   ]
  },
  {
   "cell_type": "markdown",
   "metadata": {},
   "source": [
    "### Variables\n",
    "\n",
    "Las variables en Python se declaran empezando por minúsculas, precedidas de letras, _ o numeros y sin espacios.\n",
    "\n",
    "Así son variables:\n",
    "- a, b, c\n",
    "- numero, cateto, perro\n",
    "- numero_de_telefono\n",
    "- numeroDeTelefono\n",
    "\n",
    "Pero no son variables:\n",
    "- A, B, C\n",
    "- Numero, Cateto, Perro\n",
    "- numero de telefono\n",
    "- 9\n",
    "\n",
    "Las variables pueden ser:\n",
    "- int: 1, 3, 5\n",
    "- float: 1f, 1.0\n",
    "- complex: 2+5j\n",
    "- bool: True, False\n",
    "- str: \"Hola mundo\", 'Hola mundo\"\n",
    "- None: Ningún tipo\n",
    "\n",
    "Y se asigna un valor a una variable con el nombre de la variable = el valor"
   ]
  },
  {
   "cell_type": "code",
   "execution_count": 1,
   "metadata": {},
   "outputs": [],
   "source": [
    "# Por cierto, esto es un comentario de una sola linea\n",
    "'''\n",
    "Y esto es un comentario\n",
    "de varias lineas:\n",
    "1a linea\n",
    "2a linea\n",
    "Ya sabes\n",
    "'''\n",
    "\n",
    "variable_entera = 1 # Ahora la variable variable_1 es del tipo int y vale 1\n",
    "variable_flotante = 2.8\n",
    "variable_compleja = 3+2j\n",
    "variable_booleana = True\n",
    "variable_cadena = \"Primera cadena\"\n",
    "variable_vacia = None"
   ]
  },
  {
   "cell_type": "markdown",
   "metadata": {},
   "source": [
    "## Salida de datos\n",
    "\n",
    "Para poder imprimir en pantalla el valor de una variable, o un valor constante (como 9, False, o 'Bye bye, baby') usamos la funcion print, de la siguiente forma:\n",
    "print(\"Cadena\", o_variable, \"u otra cadena o variable\", etc, etc...)\n",
    "\n",
    "Vamos a verlo."
   ]
  },
  {
   "cell_type": "code",
   "execution_count": 2,
   "metadata": {},
   "outputs": [
    {
     "name": "stdout",
     "output_type": "stream",
     "text": [
      "Hola mundo\n"
     ]
    }
   ],
   "source": [
    "print('Hola mundo')"
   ]
  },
  {
   "cell_type": "code",
   "execution_count": 3,
   "metadata": {},
   "outputs": [
    {
     "name": "stdout",
     "output_type": "stream",
     "text": [
      "(3+2j)\n",
      "Variable flotante: 2.8\n",
      "Variable flotante ahora 5.678\n"
     ]
    }
   ],
   "source": [
    "print(variable_compleja)\n",
    "print(\"Variable flotante:\", variable_flotante) # Se imprimirá debajo\n",
    "\n",
    "# Ahora vamos a reasignar el valor a una variable\n",
    "variable_flotante = 5.678\n",
    "print(\"Variable flotante ahora\", variable_flotante) # Qué imprimirá?"
   ]
  },
  {
   "cell_type": "markdown",
   "metadata": {},
   "source": [
    "**Ejercicio 1:** Imprime la variable entera."
   ]
  },
  {
   "cell_type": "code",
   "execution_count": 4,
   "metadata": {},
   "outputs": [],
   "source": [
    "# Aquí la solucion"
   ]
  },
  {
   "cell_type": "markdown",
   "metadata": {},
   "source": [
    "## Entrada de datos\n",
    "\n",
    "Pero no nos conformamos con sacar datos, también queremos recibirlos. Para eso usamos el método input. Así:"
   ]
  },
  {
   "cell_type": "code",
   "execution_count": 5,
   "metadata": {},
   "outputs": [
    {
     "name": "stdout",
     "output_type": "stream",
     "text": [
      "Dame un valor: qwerty\n",
      "qwerty\n"
     ]
    }
   ],
   "source": [
    "# La cadena dentro de los parentesis de input será imprimida antes de recibir los datos.\n",
    "entrada = input(\"Dame un valor: \")\n",
    "\n",
    "print(entrada)"
   ]
  },
  {
   "cell_type": "markdown",
   "metadata": {},
   "source": [
    "## Cásting\n",
    "\n",
    "Si queremos cambiar el tipo de una variable, hemos de hacer un cásting (y no de actores). Esto es: el_nombre_del_tipo_nuevo(aqui_dentro_la_variable). Ejemplo:"
   ]
  },
  {
   "cell_type": "code",
   "execution_count": 6,
   "metadata": {},
   "outputs": [
    {
     "name": "stdout",
     "output_type": "stream",
     "text": [
      "Dame un entero: 32\n",
      "<class 'str'>\n",
      "<class 'int'>\n"
     ]
    }
   ],
   "source": [
    "entrada = input(\"Dame un entero: \")\n",
    "# El valor que recibiremos será del tipo str. Comprobemoslo:\n",
    "print(type(entrada)) # La funcion type nos informa del tipo de una determinada variable o valor\n",
    "\n",
    "# Ahora haremos un cásting\n",
    "entrada_entera = int(entrada)\n",
    "print(type(entrada_entera))"
   ]
  },
  {
   "cell_type": "markdown",
   "metadata": {},
   "source": [
    "**Ejercicio 2:** Recibe por consola un flotante y haz el casting al tipo de datos correspondiente. Recuerda que la parte decimal de un flotante viene precedida de un punto en lugar de una coma (te lo digo para que no te equivoques al ingresar los datos)."
   ]
  },
  {
   "cell_type": "code",
   "execution_count": 7,
   "metadata": {},
   "outputs": [],
   "source": [
    "# Aqui la solucion"
   ]
  },
  {
   "cell_type": "markdown",
   "metadata": {},
   "source": [
    "## Operaciones aritméticas\n",
    "\n",
    "La operaciones aritmeticas operan sobre y entre enteros, flotantes i complejos, y son las siguientes:\n",
    "- Suma (+)\n",
    "- Resta (-)\n",
    "- Multiplicacion (*)\n",
    "- Division (/)\n",
    "- Division entera, que se queda con la parte entera de la division. ¿Redundante? Sí. Pero ojo con esta, ya veremos luego el motivo. (//)\n",
    "- Módulo: el residuo de la division entera (%)\n",
    "- Potencia: (**)\n",
    "\n",
    "¿Y no hay una operacion aritmetica para la raiz cuadrada? Bueno, hay una manera sencilla de hacerla, pero te tocará a tí descubrirla. De momento vamos con los ejemplos:"
   ]
  },
  {
   "cell_type": "code",
   "execution_count": 8,
   "metadata": {},
   "outputs": [
    {
     "name": "stdout",
     "output_type": "stream",
     "text": [
      "Suma: 1 + 4.3 = 5.3\n",
      "Resta: 2.3 - (2 + 7j) = (0.2999999999999998-7j)\n",
      "Multiplicación: 7.8 * 3.4 = 26.52\n",
      "Division: 3 / 2 = 1.5\n",
      "Division entera: 3 // 2 = 1\n",
      "Modulo: 3 % 2 = 1\n",
      "Potencia: 3.6 ** (-1) = 0.2777777777777778\n"
     ]
    }
   ],
   "source": [
    "print(\"Suma: 1 + 4.3 =\", 1 + 4.3) # Suma entre un entero y un flotante\n",
    "print(\"Resta: 2.3 - (2 + 7j) =\", 2.3 - (2 + 7j)) # Resta entre un flotante y un complejo\n",
    "print(\"Multiplicación: 7.8 * 3.4 =\", 7.8 * 3.4) # Multiplicación entre dos flotantes\n",
    "print(\"Division: 3 / 2 =\", 3 / 2) # Division entre dos enteros\n",
    "print(\"Division entera: 3 // 2 =\", 3 // 2) # Division entera entre los dos numeros\n",
    "print(\"Modulo: 3 % 2 =\", 3 % 2) # Modulo (o residuo) entre los dos numeros\n",
    "print(\"Potencia: 3.6 ** (-1) =\", 3.6 ** (-1)) # Potencia entre flotante y entero"
   ]
  },
  {
   "cell_type": "markdown",
   "metadata": {},
   "source": [
    "**Ejercicio 3:** Recibe un entero por consola e imprime su raiz cuadrada por pantalla"
   ]
  },
  {
   "cell_type": "code",
   "execution_count": 9,
   "metadata": {},
   "outputs": [],
   "source": [
    "# Aqui la solucion"
   ]
  },
  {
   "cell_type": "markdown",
   "metadata": {},
   "source": [
    "## Operaciones relacionales\n",
    "\n",
    "Las operaciones relacionales comparan dos valores (del tipo que quieras), devuelven un booleano y son las siguientes:\n",
    "- Igualdad (==)\n",
    "- Diferencia (!=)\n",
    "- Menor (<)\n",
    "- Mayor (>)\n",
    "- Menor o igual (<=)\n",
    "- Mayor o igual (>=)\n",
    "\n",
    "Y sin > dilación, vamos a los ejemplos:"
   ]
  },
  {
   "cell_type": "code",
   "execution_count": 14,
   "metadata": {},
   "outputs": [
    {
     "name": "stdout",
     "output_type": "stream",
     "text": [
      "'abba' == 'abba' = True\n",
      "'abba' != 'abba' = False\n",
      "1 < 0.4 = False\n",
      "3 > 3 = False\n",
      "1 <= 0.4 = False\n",
      "3 >= 3 = True\n"
     ]
    }
   ],
   "source": [
    "print(\"'abba' == 'abba' =\", 'abba' == 'abba') # Igualdad sobre cadenas\n",
    "print(\"'abba' != 'abba' =\", 'abba' != 'abba') # Desigualdad entre dos cadenas\n",
    "print(\"1 < 0.4 =\", 1 < 0.4)\n",
    "print(\"3 > 3 =\", 3 > 3)\n",
    "print(\"1 <= 0.4 =\", 1 <= 0.4)\n",
    "print(\"3 >= 3 =\", 3 >= 3)"
   ]
  },
  {
   "attachments": {
    "image.png": {
     "image/png": "[encoded data removed]"
    }
   },
   "cell_type": "markdown",
   "metadata": {},
   "source": [
    "## Operaciones logicas\n",
    "\n",
    "Las operaciones logicas operan sobre booleanos y retornan un booleano también. Son tres:\n",
    "- or\n",
    "![image.png](attachment:image.png)\n",
    "- and\n",
    "![image.png](attachment:image.png)\n",
    "- not\n",
    "![image.png](attachment:image.png)\n",
    "\n",
    "Ejemplos:"
   ]
  },
  {
   "cell_type": "code",
   "execution_count": 16,
   "metadata": {},
   "outputs": [
    {
     "name": "stdout",
     "output_type": "stream",
     "text": [
      "Ejemplo 1: True\n"
     ]
    }
   ],
   "source": [
    "'''\n",
    "Ejemplo 1: Vamos a calcular si es cierto que 1 es igual a 3 o 1 es menor que 3\n",
    "'''\n",
    "var_relacional_1_1 = 1 == 3 # Primero vamos a almacenar las relaciones en variables\n",
    "var_relacional_1_2 = 1 < 3\n",
    "resultado_logico_1 = var_relacional_1_1 or var_relacional_1_2 # La operacion logica\n",
    "print(\"Ejemplo 1:\", resultado_logico)"
   ]
  },
  {
   "cell_type": "code",
   "execution_count": 19,
   "metadata": {},
   "outputs": [
    {
     "name": "stdout",
     "output_type": "stream",
     "text": [
      "Ejemplo 2: True\n"
     ]
    }
   ],
   "source": [
    "'''\n",
    "Ejemplo 2: Vamos a calcular si es cierto que 2 no es flotante i 3 es mayor que 2.9\n",
    "'''\n",
    "var_relacional_2_1 = not (type(2) == float)\n",
    "var_relacional_2_2 = 3 > 2.9\n",
    "resultado_logico_2 = var_relacional_2_1 and var_relacional_2_2\n",
    "print(\"Ejemplo 2:\", resultado_logico_2)"
   ]
  },
  {
   "cell_type": "markdown",
   "metadata": {},
   "source": [
    "## Condicional if/elif/else\n",
    "\n",
    "-Si los cerdos vuelan, te dejo salir, hijo, si no, no te dejo salir, hijo.\n",
    "\n",
    "¿Cuantas veces le escuché decir esto a mi madre? Ninguna. Pero sirve como ejemplo. Con la siguiente estructura:\n",
    "\n",
    "`\n",
    "if condicion logica:\n",
    "    Instrucciones despues del tabulador (tambien llamado indentado)\n",
    "elif otras condiciones logicas:\n",
    "    Más instrucciones.\n",
    "elif\n",
    "    ...\n",
    "else:\n",
    "    Se ejecutan estas instrucciones si no se cumplieron las condiciones anteriores.\n",
    "`\n",
    "    \n",
    "Podemos controlar el flujo de un programa. El indentado es muy importante porque define qué instrucciones van dentro del condiciona, así que debemos tener mucho cuidado con la estructura. El esperado ejemplo:"
   ]
  },
  {
   "cell_type": "code",
   "execution_count": 20,
   "metadata": {},
   "outputs": [
    {
     "name": "stdout",
     "output_type": "stream",
     "text": [
      "No te dejo salir, hijo\n"
     ]
    }
   ],
   "source": [
    "'''\n",
    "Este es el script para interpretar las prohibiciones de mi señora madre\n",
    "'''\n",
    "cerdos_vuelan = False\n",
    "\n",
    "if cerdos_vuelan:\n",
    "    print(\"Te dejo salir, hijo\")\n",
    "else:\n",
    "    print(\"No te dejo salir, hijo\")"
   ]
  },
  {
   "cell_type": "code",
   "execution_count": 21,
   "metadata": {},
   "outputs": [
    {
     "name": "stdout",
     "output_type": "stream",
     "text": [
      "No te dejo salir, hijo\n"
     ]
    }
   ],
   "source": [
    "'''\n",
    "Otra condicion que me imponía era que el barça hubiera ganado el dia anterior.\n",
    "Esto lo podemos implementar de dos formas. La primera usando if elif else. La segunda es mas bonita.\n",
    "'''\n",
    "barca_gana = False\n",
    "\n",
    "if cerdos_vuelan:\n",
    "    print(\"Te dejo salir, hijo\")\n",
    "elif barca_gana:\n",
    "    print(\"Te dejo salir, hijo\")\n",
    "else:\n",
    "    print(\"No te dejo salir, hijo\")"
   ]
  },
  {
   "cell_type": "markdown",
   "metadata": {},
   "source": [
    "**Ejercicio 4:** Implementa el ejemplo anterior usando solo un if else."
   ]
  },
  {
   "cell_type": "code",
   "execution_count": 22,
   "metadata": {},
   "outputs": [],
   "source": [
    "# Aqui la solucion"
   ]
  },
  {
   "cell_type": "markdown",
   "metadata": {},
   "source": [
    "## Listas y tuplas\n",
    "\n",
    "Una lista (list) es una coleccion ordenada de valores que se puede modificar. Una tupla (tuple) es una lista que no se puede modificar. Los valores de la lista van entre claudators, y los de la tupla entre parentesis, y siempre separados por comas."
   ]
  },
  {
   "cell_type": "code",
   "execution_count": 23,
   "metadata": {},
   "outputs": [],
   "source": [
    "lista_1 = [1, 2.3, None, False, \"Cadena\"] # Los valores pueden ser de cualquier tipo\n",
    "tupla_1 =(23, 'Otra cadena', 2 + 4j)"
   ]
  },
  {
   "cell_type": "code",
   "execution_count": null,
   "metadata": {},
   "outputs": [],
   "source": []
  }
 ],
 "metadata": {
  "kernelspec": {
   "display_name": "Python 3",
   "language": "python",
   "name": "python3"
  },
  "language_info": {
   "codemirror_mode": {
    "name": "ipython",
    "version": 3
   },
   "file_extension": ".py",
   "mimetype": "text/x-python",
   "name": "python",
   "nbconvert_exporter": "python",
   "pygments_lexer": "ipython3",
   "version": "3.7.4"
  }
 },
 "nbformat": 4,
 "nbformat_minor": 2
}
